{
 "cells": [
  {
   "cell_type": "code",
   "execution_count": 1,
   "metadata": {},
   "outputs": [],
   "source": [
    "import numpy as np\n",
    "import pandas as pd\n",
    "import scipy\n",
    "import scipy.stats\n",
    "import matplotlib.pyplot as plt\n",
    "import sklearn\n",
    "from sklearn.model_selection import train_test_split\n",
    "from sklearn.svm import SVC\n",
    "from sklearn.metrics import accuracy_score\n",
    "%matplotlib inline"
   ]
  },
  {
   "cell_type": "code",
   "execution_count": 2,
   "metadata": {},
   "outputs": [],
   "source": [
    "class ParametersSamples:\n",
    "    def __init__(self, number, mean, sd):\n",
    "        self.number = number\n",
    "        self.mean = mean\n",
    "        self.sd = sd"
   ]
  },
  {
   "cell_type": "code",
   "execution_count": 3,
   "metadata": {},
   "outputs": [],
   "source": [
    "class GetData:\n",
    "    PERCENT_LABELED = 0.3\n",
    "    param1 = ParametersSamples(1000, 0, 1)\n",
    "    param2 = ParametersSamples(1000, 10, 2)\n",
    "    \n",
    "    def _get_data1(self):\n",
    "        param = self.param1\n",
    "        X1 = scipy.stats.norm.rvs(param.mean, param.sd, size=(param.number, 2))\n",
    "        y1 = np.ones((param.number, 1))\n",
    "        labeled1 = np.random.binomial(1, self.PERCENT_LABELED, (param.number, 1))\n",
    "        data1 = np.hstack([X1, y1, labeled1])\n",
    "        return data1\n",
    "    \n",
    "    def _get_data2(self):\n",
    "        param = self.param2\n",
    "        X1 = scipy.stats.norm.rvs(param.mean, param.sd, size=(param.number, 2))\n",
    "        y1 = np.zeros((param.number, 1))\n",
    "        labeled1 = np.zeros((param.number, 1))\n",
    "        data1 = np.hstack([X1, y1, labeled1])\n",
    "        return data1\n",
    "    \n",
    "    def get_data(self):              \n",
    "        columns = ['x1', 'x2', 'y', 's']\n",
    "        data1 = self._get_data1()\n",
    "        data2 = self._get_data2()\n",
    "        data3 = data1[data1[:, 3] == 1, : ]\n",
    "        plt.title(\"data\")\n",
    "        plt.plot(data1[:, 0], data1[:, 1], 'r+')\n",
    "        plt.plot(data2[:, 0], data2[:, 1], 'bo')\n",
    "        plt.plot(data3[:, 0], data3[:, 1], 'go')\n",
    "        plt.legend(['y = 1', 'y = 0', 'y = 1 and s = 1'])\n",
    "        \n",
    "        return pd.DataFrame(np.vstack([data1, data2]), columns=columns)\n",
    "        "
   ]
  },
  {
   "cell_type": "code",
   "execution_count": 4,
   "metadata": {},
   "outputs": [
    {
     "data": {
      "image/png": "[encoded data removed]",
      "text/plain": [
       "<Figure size 432x288 with 1 Axes>"
      ]
     },
     "metadata": {
      "needs_background": "light"
     },
     "output_type": "display_data"
    }
   ],
   "source": [
    "data = GetData().get_data()"
   ]
  },
  {
   "cell_type": "code",
   "execution_count": 5,
   "metadata": {},
   "outputs": [],
   "source": [
    "train, test = train_test_split(data, train_size = 0.8)"
   ]
  },
  {
   "cell_type": "code",
   "execution_count": 6,
   "metadata": {},
   "outputs": [],
   "source": [
    "model_svc = SVC(class_weight='balanced', kernel='poly', gamma='scale', probability=True)\n",
    "\n",
    "model_svc = model_svc.fit(train.loc[:,['x1', 'x2']], train.loc[:, 's'])\n"
   ]
  },
  {
   "cell_type": "code",
   "execution_count": 7,
   "metadata": {},
   "outputs": [
    {
     "data": {
      "text/plain": [
       "1.0"
      ]
     },
     "execution_count": 7,
     "metadata": {},
     "output_type": "execute_result"
    }
   ],
   "source": [
    "model_svc.score(train.loc[:, ['x1', 'x2']], train.loc[:, 'y'])"
   ]
  },
  {
   "cell_type": "code",
   "execution_count": 8,
   "metadata": {},
   "outputs": [
    {
     "data": {
      "text/plain": [
       "1.0"
      ]
     },
     "execution_count": 8,
     "metadata": {},
     "output_type": "execute_result"
    }
   ],
   "source": [
    "model_svc.score(test.loc[:, ['x1', 'x2']], test.loc[:, 'y'])"
   ]
  },
  {
   "cell_type": "code",
   "execution_count": 9,
   "metadata": {},
   "outputs": [],
   "source": [
    "class ClassifierOnlyPositiveAndUnlabeledData:\n",
    "    \n",
    "    \n",
    "    def __init__(self):\n",
    "        pass\n",
    "    \n",
    "    def fit(self, X, y):\n",
    "        train_X, validate_X, train_y, validate_y = train_test_split(X, y, train_size=0.9)\n",
    "        self._model = SVC(class_weight='balanced', kernel='poly', gamma='scale', probability=True)\n",
    "        self._model.fit(train_X, train_y)\n",
    "        self._foo(validate_X, validate_y)\n",
    "        \n",
    "    # get estimate of p(s = 1 | y = 1) \n",
    "    def _foo(self, X, y):\n",
    "        X_true = X[y == 1]\n",
    "        probabilities = self._base_model_predict_proba(X_true)\n",
    "        self._coef = sum(probabilities) / X_true.shape[0]\n",
    "        \n",
    "    def predict_proba(self, X):\n",
    "        return self._base_model_predict_proba(X) / self._coef\n",
    "    \n",
    "    def predict(self, X):\n",
    "        return np.apply_along_axis(lambda x: 1 if x >= 0.5 else 0, 1, self.predict_proba(X).reshape(-1, 1))\n",
    "    \n",
    "    def _base_model_predict_proba(self, X):\n",
    "        return self._model.predict_proba(X)[:, 1]\n",
    "    \n",
    "    def score(self, X, y):\n",
    "        return accuracy_score(self.predict(X), y)"
   ]
  },
  {
   "cell_type": "code",
   "execution_count": 10,
   "metadata": {},
   "outputs": [],
   "source": [
    "model_unlabeled_data = ClassifierOnlyPositiveAndUnlabeledData()\n",
    "\n",
    "model_unlabeled_data.fit(train.loc[:,['x1', 'x2']], train.loc[:, 's'])"
   ]
  },
  {
   "cell_type": "code",
   "execution_count": 11,
   "metadata": {},
   "outputs": [
    {
     "data": {
      "text/plain": [
       "1.0"
      ]
     },
     "execution_count": 11,
     "metadata": {},
     "output_type": "execute_result"
    }
   ],
   "source": [
    "model_unlabeled_data.score(train.loc[:,['x1', 'x2']], train.loc[:, 'y'])"
   ]
  },
  {
   "cell_type": "code",
   "execution_count": 12,
   "metadata": {},
   "outputs": [
    {
     "data": {
      "text/plain": [
       "1.0"
      ]
     },
     "execution_count": 12,
     "metadata": {},
     "output_type": "execute_result"
    }
   ],
   "source": [
    "model_unlabeled_data.score(test.loc[:,['x1', 'x2']], test.loc[:, 'y'])"
   ]
  },
  {
   "cell_type": "code",
   "execution_count": null,
   "metadata": {},
   "outputs": [],
   "source": []
  }
 ],
 "metadata": {
  "kernelspec": {
   "display_name": "Python 3",
   "language": "python",
   "name": "python3"
  },
  "language_info": {
   "codemirror_mode": {
    "name": "ipython",
    "version": 3
   },
   "file_extension": ".py",
   "mimetype": "text/x-python",
   "name": "python",
   "nbconvert_exporter": "python",
   "pygments_lexer": "ipython3",
   "version": "3.6.8"
  }
 },
 "nbformat": 4,
 "nbformat_minor": 2
}
